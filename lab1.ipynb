{
 "cells": [
  {
   "cell_type": "markdown",
   "metadata": {},
   "source": [
    "1. Write a Python program to check whether the given number is even or not.\n",
    "\n",
    "2. Write a Python program to find the area of a triangle whose sides are given\n",
    "\n",
    "3. write a Python program to find out the average of a set of integers by taking input from the user\n",
    "\n",
    "4. write a Python program to find the product of a set of real numbers by taking input from the user\n",
    "\n",
    "5. write a Python program to check whether the given integer is a multiple of 5 by taking input from the user\n",
    "\n",
    "6. write a Python program to check whether the given integer is a multiple of both 5 and 7 by taking input from the user\n",
    "\n",
    "7. write a Python program to find the average of 10 numbers using while loop\n",
    "\n",
    "8. write a Python program to display the given integer in a reverse manner\n",
    "\n",
    "9. write a Python program to find the sum of the digits of an integer using a while loop\n",
    "\n",
    "10. write a Python program to display all the multiples of 3 within the range 10 to 50\n",
    "\n",
    "11. write a Python program to display all integers within the range 100-200 whose sum of digits is an even number\n",
    "\n",
    "12. write a Python program to check whether the given integer is a prime number or not\n",
    "\n",
    "13. write a Python program to generate the prime numbers from 1 to N\n",
    "\n",
    "14. write a Python program to find the roots of a quadratic equation\n",
    "\n",
    "15. write a Python program to find the odd numbers in a list\n",
    "\n",
    "16. write a Python program to find the largest number in a list without using built-in functions\n",
    "\n",
    "17. write a Python program to insert a number to any position in a list\n",
    "\n",
    "18. write a Python program to implement matrix addition\n",
    "\n",
    "19. write a Python program to implement matrix multiplication\n",
    "\n",
    "20. write a Python program to print Fibonacci series using iteration"
   ]
  },
  {
   "cell_type": "code",
   "execution_count": null,
   "metadata": {},
   "outputs": [],
   "source": [
    "# Code 1 :\n",
    "\n",
    "def is_even(number):\n",
    "    if number % 2 == 0:\n",
    "        return True\n",
    "    else:\n",
    "        return False\n",
    "    \n",
    "\n",
    "num = int(input(\"Enter a number: \"))\n",
    "if is_even(num):\n",
    "    print(f\"{num} is even.\")\n",
    "else:\n",
    "    print(f\"{num} is not even.\")\n",
    "\n"
   ]
  },
  {
   "cell_type": "code",
   "execution_count": null,
   "metadata": {},
   "outputs": [],
   "source": [
    "number = int(input(\"Enter a number: \"))\n",
    "if number % 2 == 0:\n",
    "    print(\"It's an even number.\")\n",
    "else:\n",
    "    print(\"It's not an even number.\")\n"
   ]
  },
  {
   "cell_type": "code",
   "execution_count": null,
   "metadata": {},
   "outputs": [],
   "source": [
    "n = int(input(\"Enter the number :\"))\n",
    "if n%2 == 0 :\n",
    "    print(\"The given number is even\")\n",
    "    \n",
    "else :\n",
    "    print(\"The given number is not even\")"
   ]
  },
  {
   "cell_type": "code",
   "execution_count": null,
   "metadata": {},
   "outputs": [],
   "source": [
    "# Code 2 :\n",
    "\n",
    "def calculate_triangle_area(a, b, c):\n",
    "    s = (a + b + c) / 2\n",
    "    area = (s * (s - a) * (s - b) * (s - c)) ** 0.5\n",
    "    return area\n",
    "\n",
    "side_a = float(input(\"Enter length of side A: \"))\n",
    "side_b = float(input(\"Enter length of side B: \"))\n",
    "side_c = float(input(\"Enter length of side C: \"))\n",
    "area = calculate_triangle_area(side_a, side_b, side_c)\n",
    "print(f\"The area of the triangle is: {area}\")\n"
   ]
  },
  {
   "cell_type": "code",
   "execution_count": null,
   "metadata": {},
   "outputs": [],
   "source": [
    "side1 = float(input(\"Enter the length of side 1: \"))\n",
    "side2 = float(input(\"Enter the length of side 2: \"))\n",
    "side3 = float(input(\"Enter the length of side 3: \"))\n",
    "s = (side1 + side2 + side3) / 2\n",
    "area = (s * (s - side1) * (s - side2) * (s - side3)) ** 0.5\n",
    "print(f\"The area of the triangle is: {area}\")\n"
   ]
  },
  {
   "cell_type": "code",
   "execution_count": null,
   "metadata": {},
   "outputs": [],
   "source": [
    "# Code 3 :\n",
    "\n",
    "num_list = []\n",
    "n = int(input(\"Enter the number of integers: \"))\n",
    "for _ in range(n):\n",
    "    num = int(input(\"Enter an integer: \"))\n",
    "    num_list.append(num)\n",
    "\n",
    "average = sum(num_list) / n\n",
    "print(f\"The average is: {average}\")\n"
   ]
  },
  {
   "cell_type": "code",
   "execution_count": null,
   "metadata": {},
   "outputs": [],
   "source": [
    "total = 0\n",
    "count = int(input(\"Enter the number of integers: \"))\n",
    "for _ in range(count):\n",
    "    num = int(input(\"Enter an integer: \"))\n",
    "    total += num\n",
    "average = total / count\n",
    "print(f\"The average is: {average}\")\n"
   ]
  },
  {
   "cell_type": "code",
   "execution_count": null,
   "metadata": {},
   "outputs": [],
   "source": [
    "# Code 4 :\n",
    "\n",
    "num_list = []\n",
    "n = int(input(\"Enter the number of real numbers: \"))\n",
    "for _ in range(n):\n",
    "    num = float(input(\"Enter a real number: \"))\n",
    "    num_list.append(num)\n",
    "\n",
    "product = 1\n",
    "for num in num_list:\n",
    "    product *= num\n",
    "\n",
    "print(f\"The product is: {product}\")\n",
    "\n"
   ]
  },
  {
   "cell_type": "code",
   "execution_count": null,
   "metadata": {},
   "outputs": [],
   "source": [
    "product = 1\n",
    "count = int(input(\"Enter the number of real numbers: \"))\n",
    "for _ in range(count):\n",
    "    num = float(input(\"Enter a real number: \"))\n",
    "    product *= num\n",
    "print(f\"The product is: {product}\")\n"
   ]
  },
  {
   "cell_type": "code",
   "execution_count": null,
   "metadata": {},
   "outputs": [],
   "source": [
    "# Code 5 :\n",
    "\n",
    "num = int(input(\"Enter an integer: \"))\n",
    "if num % 5 == 0:\n",
    "    print(f\"{num} is a multiple of 5.\")\n",
    "else:\n",
    "    print(f\"{num} is not a multiple of 5.\")\n"
   ]
  },
  {
   "cell_type": "code",
   "execution_count": null,
   "metadata": {},
   "outputs": [],
   "source": [
    "num = int(input(\"Enter an integer: \"))\n",
    "if num % 5 == 0:\n",
    "    print(\"It's a multiple of 5.\")\n",
    "else:\n",
    "    print(\"It's not a multiple of 5.\")\n"
   ]
  },
  {
   "cell_type": "code",
   "execution_count": null,
   "metadata": {},
   "outputs": [],
   "source": [
    "# Code 6 :\n",
    "\n",
    "num = int(input(\"Enter an integer: \"))\n",
    "if num % 5 == 0 and num % 7 == 0:\n",
    "    print(f\"{num} is a multiple of both 5 and 7.\")\n",
    "else:\n",
    "    print(f\"{num} is not a multiple of both 5 and 7.\")\n"
   ]
  },
  {
   "cell_type": "code",
   "execution_count": null,
   "metadata": {},
   "outputs": [],
   "source": [
    "num = int(input(\"Enter an integer: \"))\n",
    "if num % 5 == 0 and num % 7 == 0:\n",
    "    print(\"It's a multiple of both 5 and 7.\")\n",
    "else:\n",
    "    print(\"It's not a multiple of both 5 and 7.\")\n"
   ]
  },
  {
   "cell_type": "code",
   "execution_count": null,
   "metadata": {},
   "outputs": [],
   "source": [
    "# Code 7 :\n",
    "\n",
    "count = 1\n",
    "total = 0\n",
    "while count <= 10:\n",
    "    num = float(input(f\"Enter number {count}: \"))\n",
    "    total += num\n",
    "    count += 1\n",
    "\n",
    "average = total / 10\n",
    "print(f\"The average is: {average}\")\n"
   ]
  },
  {
   "cell_type": "code",
   "execution_count": null,
   "metadata": {},
   "outputs": [],
   "source": [
    "total = 0\n",
    "count = 10\n",
    "while count > 0:\n",
    "    num = float(input(f\"Enter number {count}: \"))\n",
    "    total += num\n",
    "    count -= 1\n",
    "average = total / 10\n",
    "print(f\"The average is: {average}\")\n"
   ]
  },
  {
   "cell_type": "code",
   "execution_count": null,
   "metadata": {},
   "outputs": [],
   "source": [
    "# Code 8 :\n",
    "\n",
    "num = int(input(\"Enter an integer: \"))\n",
    "reversed_num = 0\n",
    "while num > 0:\n",
    "    digit = num % 10\n",
    "    reversed_num = reversed_num * 10 + digit\n",
    "    num //= 10\n",
    "\n",
    "print(f\"The reversed number is: {reversed_num}\")\n"
   ]
  },
  {
   "cell_type": "code",
   "execution_count": null,
   "metadata": {},
   "outputs": [],
   "source": [
    "# Code 9 :\n",
    "\n",
    "num = int(input(\"Enter an integer: \"))\n",
    "sum_of_digits = 0\n",
    "while num > 0:\n",
    "    digit = num % 10\n",
    "    sum_of_digits += digit\n",
    "    num //= 10\n",
    "\n",
    "print(f\"The sum of the digits is: {sum_of_digits}\")\n"
   ]
  },
  {
   "cell_type": "code",
   "execution_count": null,
   "metadata": {},
   "outputs": [],
   "source": [
    "# code 10 :\n",
    "\n",
    "for num in range(10, 51):\n",
    "    if num % 3 == 0:\n",
    "        print(num)\n",
    "\n"
   ]
  },
  {
   "cell_type": "code",
   "execution_count": null,
   "metadata": {},
   "outputs": [],
   "source": [
    "# Code 11 :\n",
    "\n",
    "def sum_of_digits(number):\n",
    "    total = 0\n",
    "    while number > 0:\n",
    "        digit = number % 10\n",
    "        total += digit\n",
    "        number //= 10\n",
    "    return total\n",
    "\n",
    "for num in range(100, 201):\n",
    "    if sum_of_digits(num) % 2 == 0:\n",
    "        print(num)\n"
   ]
  },
  {
   "cell_type": "code",
   "execution_count": null,
   "metadata": {},
   "outputs": [],
   "source": [
    "# Code 12 :\n",
    "\n",
    "def is_prime(number):\n",
    "    if number <= 1:\n",
    "        return False\n",
    "    for i in range(2, int(number ** 0.5) + 1):\n",
    "        if number % i == 0:\n",
    "            return False\n",
    "    return True\n",
    "\n",
    "num = int(input(\"Enter an integer: \"))\n",
    "if is_prime(num):\n",
    "    print(f\"{num} is a prime number.\")\n",
    "else:\n",
    "    print(f\"{num} is not a prime number.\")\n"
   ]
  },
  {
   "cell_type": "code",
   "execution_count": null,
   "metadata": {},
   "outputs": [],
   "source": [
    "# Code 13 :\n",
    "\n",
    "def generate_primes(limit):\n",
    "    primes = []\n",
    "    for num in range(2, limit + 1):\n",
    "        if is_prime(num):\n",
    "            primes.append(num)\n",
    "    return primes\n",
    "\n",
    "N = int(input(\"Enter the value of N: \"))\n",
    "prime_list = generate_primes(N)\n",
    "print(f\"Prime numbers from 1 to {N}: {prime_list}\")\n"
   ]
  },
  {
   "cell_type": "code",
   "execution_count": null,
   "metadata": {},
   "outputs": [],
   "source": [
    "# Code 14 :\n",
    "\n",
    "import cmath\n",
    "\n",
    "a = float(input(\"Enter coefficient a: \"))\n",
    "b = float(input(\"Enter coefficient b: \"))\n",
    "c = float(input(\"Enter coefficient c: \"))\n",
    "\n",
    "discriminant = b**2 - 4*a*c\n",
    "root1 = (-b + cmath.sqrt(discriminant)) / (2*a)\n",
    "root2 = (-b - cmath.sqrt(discriminant)) / (2*a)\n",
    "\n",
    "print(f\"The roots are: {root1} and {root2}\")\n"
   ]
  },
  {
   "cell_type": "code",
   "execution_count": null,
   "metadata": {},
   "outputs": [],
   "source": [
    "a = float(input(\"Enter coefficient a: \"))\n",
    "b = float(input(\"Enter coefficient b: \"))\n",
    "c = float(input(\"Enter coefficient c: \"))\n",
    "\n",
    "discriminant = b ** 2 - 4 * a * c\n",
    "root1 = (-b + discriminant ** 0.5) / (2 * a)\n",
    "root2 = (-b - discriminant ** 0.5) / (2 * a)\n",
    "\n",
    "print(f\"The roots are: {root1} and {root2}\")\n"
   ]
  },
  {
   "cell_type": "code",
   "execution_count": null,
   "metadata": {},
   "outputs": [],
   "source": [
    "# Code 15 :\n",
    "\n",
    "num_list = [int(x) for x in input(\"Enter a list of numbers separated by spaces: \").split()]\n",
    "odd_numbers = [num for num in num_list if num % 2 != 0]\n",
    "print(f\"The odd numbers are: {odd_numbers}\")\n"
   ]
  },
  {
   "cell_type": "code",
   "execution_count": null,
   "metadata": {},
   "outputs": [],
   "source": [
    "numbers = [int(x) for x in input(\"Enter a list of numbers: \").split()]\n",
    "odd_numbers = [num for num in numbers if num % 2 != 0]\n",
    "print(\"Odd numbers:\", odd_numbers)\n"
   ]
  },
  {
   "cell_type": "code",
   "execution_count": null,
   "metadata": {},
   "outputs": [],
   "source": [
    "# Code 16 :\n",
    "\n",
    "num_list = [int(x) for x in input(\"Enter a list of numbers separated by spaces: \").split()]\n",
    "\n",
    "largest = num_list[0]\n",
    "for num in num_list:\n",
    "    if num > largest:\n",
    "        largest = num\n",
    "\n",
    "print(f\"The largest number is: {largest}\")\n"
   ]
  },
  {
   "cell_type": "code",
   "execution_count": null,
   "metadata": {},
   "outputs": [],
   "source": [
    "numbers = [int(x) for x in input(\"Enter a list of numbers: \").split()]\n",
    "largest = numbers[0]\n",
    "for num in numbers:\n",
    "    if num > largest:\n",
    "        largest = num\n",
    "print(\"The largest number is:\", largest)\n"
   ]
  },
  {
   "cell_type": "code",
   "execution_count": null,
   "metadata": {},
   "outputs": [],
   "source": [
    "# Code 17\n",
    "\n",
    "num_list = [int(x) for x in input(\"Enter a list of numbers separated by spaces: \").split()]\n",
    "num_to_insert = int(input(\"Enter the number to insert: \"))\n",
    "position = int(input(\"Enter the position to insert at: \"))\n",
    "\n",
    "num_list.insert(position, num_to_insert)\n",
    "print(f\"The updated list: {num_list}\")\n"
   ]
  },
  {
   "cell_type": "code",
   "execution_count": null,
   "metadata": {},
   "outputs": [],
   "source": [
    "numbers = [int(x) for x in input(\"Enter a list of numbers: \").split()]\n",
    "num_to_insert = int(input(\"Enter the number to insert: \"))\n",
    "position = int(input(\"Enter the position to insert at: \"))\n",
    "numbers.insert(position, num_to_insert)\n",
    "print(\"Updated list:\", numbers)\n"
   ]
  },
  {
   "cell_type": "code",
   "execution_count": null,
   "metadata": {},
   "outputs": [],
   "source": [
    "# Code 18 :\n",
    "\n",
    "def matrix_addition(matrix1, matrix2):\n",
    "    result = []\n",
    "    for i in range(len(matrix1)):\n",
    "        row = []\n",
    "        for j in range(len(matrix1[0])):\n",
    "            row.append(matrix1[i][j] + matrix2[i][j])\n",
    "        result.append(row)\n",
    "    return result\n",
    "\n",
    "rows = int(input(\"Enter the number of rows: \"))\n",
    "cols = int(input(\"Enter the number of columns: \"))\n",
    "\n",
    "matrix1 = []\n",
    "matrix2 = []\n",
    "\n",
    "print(\"Enter matrix 1:\")\n",
    "for i in range(rows):\n",
    "    row = [int(x) for x in input().split()]\n",
    "    matrix1.append(row)\n",
    "\n",
    "print(\"Enter matrix 2:\")\n",
    "for i in range(rows):\n",
    "    row = [int(x) for x in input().split()]\n",
    "    matrix2.append(row)\n",
    "\n",
    "result_matrix = matrix_addition(matrix1, matrix2)\n",
    "print(\"Resultant matrix:\")\n",
    "for row in result_matrix:\n",
    "    print(row)\n"
   ]
  },
  {
   "cell_type": "code",
   "execution_count": null,
   "metadata": {},
   "outputs": [],
   "source": [
    "def matrix_addition(matrix1, matrix2):\n",
    "    result = []\n",
    "    for i in range(len(matrix1)):\n",
    "        row = []\n",
    "        for j in range(len(matrix1[i])):\n",
    "            row.append(matrix1[i][j] + matrix2[i][j])\n",
    "        result.append(row)\n",
    "    return result\n",
    "\n",
    "rows = int(input(\"Enter the number of rows: \"))\n",
    "cols = int(input(\"Enter the number of columns: \"))\n",
    "\n",
    "matrix1 = []\n",
    "matrix2 = []\n",
    "\n",
    "print(\"Enter matrix 1:\")\n",
    "for i in range(rows):\n",
    "    row = [int(x) for x in input().split()]\n",
    "    matrix1.append(row)\n",
    "\n",
    "print(\"Enter matrix 2:\")\n",
    "for i in\n"
   ]
  },
  {
   "cell_type": "code",
   "execution_count": null,
   "metadata": {},
   "outputs": [],
   "source": [
    "# Code 19 :\n",
    "\n",
    "def matrix_multiplication(matrix1, matrix2):\n",
    "    result = []\n",
    "    for i in range(len(matrix1)):\n",
    "        row = []\n",
    "        for j in range(len(matrix2[0])):\n",
    "            total = 0\n",
    "            for k in range(len(matrix2)):\n",
    "                total += matrix1[i][k] * matrix2[k][j]\n",
    "            row.append(total)\n",
    "        result.append(row)\n",
    "    return result\n",
    "\n",
    "rows1 = int(input(\"Enter the number of rows for matrix 1: \"))\n",
    "cols1 = int(input(\"Enter the number of columns for matrix 1: \"))\n",
    "\n",
    "matrix1 = []\n",
    "matrix2 = []\n",
    "\n",
    "print(\"Enter matrix 1:\")\n",
    "for i in range(rows1):\n",
    "    row = [int(x) for x in input().split()]\n",
    "    matrix1.append(row)\n",
    "\n",
    "rows2 = cols1\n",
    "cols2 = int(input(\"Enter the number of columns for matrix 2: \"))\n",
    "\n",
    "print(\"Enter matrix 2:\")\n",
    "for i in range(rows2):\n",
    "    row = [int(x) for x in input().split()]\n",
    "    matrix2.append(row)\n",
    "\n",
    "result_matrix = matrix_multiplication(matrix1, matrix2)\n",
    "print(\"Resultant matrix:\")\n",
    "for row in result_matrix:\n",
    "    print(row)\n"
   ]
  },
  {
   "cell_type": "code",
   "execution_count": null,
   "metadata": {},
   "outputs": [],
   "source": [
    "# Code 20 :\n",
    "\n",
    "def fibonacci_series(n):\n",
    "    fib_series = [0, 1]\n",
    "    while len(fib_series) < n:\n",
    "        next_num = fib_series[-1] + fib_series[-2]\n",
    "        fib_series.append(next_num)\n",
    "    return fib_series\n",
    "\n",
    "num_terms = int(input(\"Enter the number of terms in the Fibonacci series: \"))\n",
    "fibonacci = fibonacci_series(num_terms)\n",
    "print(f\"Fibonacci series with {num_terms} terms: {fibonacci}\")\n"
   ]
  }
 ],
 "metadata": {
  "kernelspec": {
   "display_name": "Python 3",
   "language": "python",
   "name": "python3"
  },
  "language_info": {
   "codemirror_mode": {
    "name": "ipython",
    "version": 3
   },
   "file_extension": ".py",
   "mimetype": "text/x-python",
   "name": "python",
   "nbconvert_exporter": "python",
   "pygments_lexer": "ipython3",
   "version": "3.11.3"
  },
  "orig_nbformat": 4
 },
 "nbformat": 4,
 "nbformat_minor": 2
}
